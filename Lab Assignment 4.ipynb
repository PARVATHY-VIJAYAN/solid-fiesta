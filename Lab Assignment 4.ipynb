{
 "cells": [
  {
   "cell_type": "markdown",
   "id": "ccf016e9",
   "metadata": {},
   "source": [
    "# 1. To accept a sequence of comma-separated numbers from the user and  generate the following with those numbers:-\n",
    "\n",
    "### a. Tuple\n"
   ]
  },
  {
   "cell_type": "code",
   "execution_count": 7,
   "id": "8243a35a",
   "metadata": {
    "scrolled": true
   },
   "outputs": [
    {
     "name": "stdout",
     "output_type": "stream",
     "text": [
      "Enter a set of values(separate with commas): 1,2,3,4,5,4,3,3\n",
      "Enterd value:  (1, 2, 3, 4, 5, 4, 3, 3)\n"
     ]
    }
   ],
   "source": [
    "tuple_input = tuple(map(int,input(\"Enter a set of values(separate with commas): \").split(\",\")))\n",
    "print(\"Enterd value: \",tuple_input)"
   ]
  },
  {
   "cell_type": "code",
   "execution_count": 8,
   "id": "fb461c30",
   "metadata": {},
   "outputs": [
    {
     "data": {
      "text/plain": [
       "tuple"
      ]
     },
     "execution_count": 8,
     "metadata": {},
     "output_type": "execute_result"
    }
   ],
   "source": [
    "type(tuple_input)"
   ]
  },
  {
   "cell_type": "markdown",
   "id": "e81e1d9a",
   "metadata": {},
   "source": [
    "### b. Set"
   ]
  },
  {
   "cell_type": "code",
   "execution_count": 11,
   "id": "04e9ba06",
   "metadata": {},
   "outputs": [
    {
     "name": "stdout",
     "output_type": "stream",
     "text": [
      "2,2,3,43,23\n"
     ]
    },
    {
     "data": {
      "text/plain": [
       "{2, 3, 23, 43}"
      ]
     },
     "execution_count": 11,
     "metadata": {},
     "output_type": "execute_result"
    }
   ],
   "source": [
    "set_input = set(map(int,input().split(\",\")))\n",
    "set_input"
   ]
  },
  {
   "cell_type": "code",
   "execution_count": 12,
   "id": "1561b4d0",
   "metadata": {},
   "outputs": [
    {
     "data": {
      "text/plain": [
       "set"
      ]
     },
     "execution_count": 12,
     "metadata": {},
     "output_type": "execute_result"
    }
   ],
   "source": [
    "type(set_input)"
   ]
  },
  {
   "cell_type": "markdown",
   "id": "7e7f9cf8",
   "metadata": {},
   "source": [
    "# 2. To find the elements those are not common in two sets."
   ]
  },
  {
   "cell_type": "markdown",
   "id": "900c865b",
   "metadata": {},
   "source": [
    "<li>input 2 set values and store it in 2 variables like set1 and set2</li>\n",
    "<li>find common elements --- >for that find intersection</li>\n",
    "<li>now subtract set1-common elements and st2 - common elements, then do union()</li>"
   ]
  },
  {
   "cell_type": "code",
   "execution_count": 13,
   "id": "7f4d7bc0",
   "metadata": {},
   "outputs": [
    {
     "name": "stdout",
     "output_type": "stream",
     "text": [
      "1,2,3,4\n",
      "6,4,3,2\n"
     ]
    }
   ],
   "source": [
    "set1=set(map(int,input().split(\",\")))\n",
    "set2=set(map(int,input().split(\",\")))"
   ]
  },
  {
   "cell_type": "code",
   "execution_count": 21,
   "id": "09d6e7be",
   "metadata": {},
   "outputs": [
    {
     "name": "stdout",
     "output_type": "stream",
     "text": [
      "{1, 2, 3, 4}\n",
      "{2, 3, 4, 6}\n"
     ]
    }
   ],
   "source": [
    "print(set1)\n",
    "print(set2)"
   ]
  },
  {
   "cell_type": "code",
   "execution_count": 15,
   "id": "0128d34d",
   "metadata": {},
   "outputs": [],
   "source": [
    "common_set = set1&set2"
   ]
  },
  {
   "cell_type": "code",
   "execution_count": 17,
   "id": "b8e06e69",
   "metadata": {},
   "outputs": [
    {
     "name": "stdout",
     "output_type": "stream",
     "text": [
      "Common in set:  {2, 3, 4}\n"
     ]
    }
   ],
   "source": [
    "print(\"Common in set: \",common_set)"
   ]
  },
  {
   "cell_type": "code",
   "execution_count": 20,
   "id": "e399bfc0",
   "metadata": {},
   "outputs": [
    {
     "name": "stdout",
     "output_type": "stream",
     "text": [
      "Elements that are no common in set:  {1, 6}\n"
     ]
    }
   ],
   "source": [
    "not_common_set=(set1-common_set)|(set2-common_set)\n",
    "print(\"Elements that are no common in set: \",not_common_set)"
   ]
  },
  {
   "cell_type": "code",
   "execution_count": 24,
   "id": "37e9bf89",
   "metadata": {},
   "outputs": [
    {
     "data": {
      "text/plain": [
       "{1, 6}"
      ]
     },
     "execution_count": 24,
     "metadata": {},
     "output_type": "execute_result"
    }
   ],
   "source": [
    "#or you can do like this..\n",
    "set1-set2|set2-set1"
   ]
  },
  {
   "cell_type": "markdown",
   "id": "bf050de7",
   "metadata": {},
   "source": [
    "# 3. To create a set of consonants in a given sentence using set comprehension."
   ]
  },
  {
   "cell_type": "code",
   "execution_count": 12,
   "id": "602f2a1c",
   "metadata": {},
   "outputs": [
    {
     "data": {
      "text/plain": [
       "{'h', 'j', 'm', 'n', 'p', 'r', 's', 't', 'v', 'y'}"
      ]
     },
     "execution_count": 12,
     "metadata": {},
     "output_type": "execute_result"
    }
   ],
   "source": [
    "sen = \"My name is Parvathy Vijayan\"\n",
    "letters = set(sen.lower())\n",
    "if ' ' in letters:\n",
    "    letters.remove(\" \")\n",
    "if 'a' in letters:\n",
    "    letters.remove(\"a\")\n",
    "if 'e' in letters:\n",
    "    letters.remove(\"e\")\n",
    "if 'i' in letters:\n",
    "    letters.remove(\"i\")\n",
    "if 'o' in letters:\n",
    "    letters.remove(\"o\")\n",
    "if 'u' in letters:\n",
    "    letters.remove(\"u\")\n",
    "letters"
   ]
  },
  {
   "cell_type": "markdown",
   "id": "5860479c",
   "metadata": {},
   "source": [
    "\n",
    "# 4. To remove all duplicates from a given sentence"
   ]
  },
  {
   "cell_type": "code",
   "execution_count": 13,
   "id": "81c0a40f",
   "metadata": {},
   "outputs": [
    {
     "data": {
      "text/plain": [
       "'My name is Parvathy Vijayan'"
      ]
     },
     "execution_count": 13,
     "metadata": {},
     "output_type": "execute_result"
    }
   ],
   "source": [
    "sen"
   ]
  },
  {
   "cell_type": "code",
   "execution_count": 14,
   "id": "f360d1de",
   "metadata": {},
   "outputs": [
    {
     "data": {
      "text/plain": [
       "{' ', 'a', 'e', 'h', 'i', 'j', 'm', 'n', 'p', 'r', 's', 't', 'v', 'y'}"
      ]
     },
     "execution_count": 14,
     "metadata": {},
     "output_type": "execute_result"
    }
   ],
   "source": [
    "letters = set(sen.lower())\n",
    "letters"
   ]
  },
  {
   "cell_type": "markdown",
   "id": "45cfda69",
   "metadata": {},
   "source": [
    "# 5. To remove the intersection of a second set from the first set."
   ]
  },
  {
   "cell_type": "code",
   "execution_count": 29,
   "id": "61a4fc48",
   "metadata": {},
   "outputs": [
    {
     "data": {
      "text/plain": [
       "{1, 2, 3, 4}"
      ]
     },
     "execution_count": 29,
     "metadata": {},
     "output_type": "execute_result"
    }
   ],
   "source": [
    "set1"
   ]
  },
  {
   "cell_type": "code",
   "execution_count": 30,
   "id": "544df757",
   "metadata": {},
   "outputs": [
    {
     "data": {
      "text/plain": [
       "{2, 3, 4, 6}"
      ]
     },
     "execution_count": 30,
     "metadata": {},
     "output_type": "execute_result"
    }
   ],
   "source": [
    "set2"
   ]
  },
  {
   "cell_type": "code",
   "execution_count": 31,
   "id": "d4f7237c",
   "metadata": {},
   "outputs": [
    {
     "name": "stdout",
     "output_type": "stream",
     "text": [
      "Intersection of set1 and set2: {2, 3, 4}\n"
     ]
    }
   ],
   "source": [
    "intersection = set1 & set2\n",
    "print(\"Intersection of set1 and set2:\", intersection)"
   ]
  },
  {
   "cell_type": "markdown",
   "id": "d4f82d1a",
   "metadata": {},
   "source": [
    "# 6. To check if a given set is a superset of itself and a subset of another given set."
   ]
  },
  {
   "cell_type": "code",
   "execution_count": 32,
   "id": "cc29e75e",
   "metadata": {},
   "outputs": [
    {
     "data": {
      "text/plain": [
       "False"
      ]
     },
     "execution_count": 32,
     "metadata": {},
     "output_type": "execute_result"
    }
   ],
   "source": [
    "set1.issuperset(set1) and set1.issubset(set2)"
   ]
  },
  {
   "cell_type": "code",
   "execution_count": 33,
   "id": "5fa9191b",
   "metadata": {},
   "outputs": [
    {
     "name": "stdout",
     "output_type": "stream",
     "text": [
      "True   False\n"
     ]
    }
   ],
   "source": [
    "s1={1,2}\n",
    "s2={1,2,3}\n",
    "print(s1<=s2,\" \",s2<=s1)"
   ]
  },
  {
   "cell_type": "markdown",
   "id": "3d986977",
   "metadata": {},
   "source": [
    "# 7. To create two frozen-sets and find the following:\n",
    "a. Union\n",
    "b. Intersection\n",
    "c. Difference "
   ]
  },
  {
   "cell_type": "code",
   "execution_count": 34,
   "id": "15488c4f",
   "metadata": {},
   "outputs": [],
   "source": [
    "frozen_set1 = frozenset([1, 2, 3, 4])\n",
    "frozen_set2 = frozenset([3, 4, 5, 6])"
   ]
  },
  {
   "cell_type": "code",
   "execution_count": 35,
   "id": "c84e48d6",
   "metadata": {},
   "outputs": [
    {
     "data": {
      "text/plain": [
       "frozenset({1, 2, 3, 4})"
      ]
     },
     "execution_count": 35,
     "metadata": {},
     "output_type": "execute_result"
    }
   ],
   "source": [
    "frozen_set1"
   ]
  },
  {
   "cell_type": "code",
   "execution_count": 36,
   "id": "97c5f05f",
   "metadata": {},
   "outputs": [
    {
     "data": {
      "text/plain": [
       "frozenset({3, 4, 5, 6})"
      ]
     },
     "execution_count": 36,
     "metadata": {},
     "output_type": "execute_result"
    }
   ],
   "source": [
    "frozen_set2"
   ]
  },
  {
   "cell_type": "code",
   "execution_count": 37,
   "id": "b0b79a29",
   "metadata": {},
   "outputs": [],
   "source": [
    "# a. Union\n",
    "union_result = frozen_set1 | frozen_set2\n",
    "\n",
    "# b. Intersection\n",
    "intersection_result = frozen_set1 & frozen_set2\n",
    "\n",
    "# c. Difference\n",
    "difference_result = frozen_set1 - frozen_set2"
   ]
  },
  {
   "cell_type": "code",
   "execution_count": 38,
   "id": "3616ceb9",
   "metadata": {},
   "outputs": [
    {
     "name": "stdout",
     "output_type": "stream",
     "text": [
      "Union: frozenset({1, 2, 3, 4, 5, 6})\n",
      "Intersection: frozenset({3, 4})\n",
      "Difference: frozenset({1, 2})\n"
     ]
    }
   ],
   "source": [
    "print(\"Union:\", union_result)\n",
    "print(\"Intersection:\", intersection_result)\n",
    "print(\"Difference:\", difference_result)"
   ]
  },
  {
   "cell_type": "markdown",
   "id": "7599b845",
   "metadata": {},
   "source": [
    "# 8. To create a tuple of unique elements from an existing tuple.\n"
   ]
  },
  {
   "cell_type": "code",
   "execution_count": 39,
   "id": "a3a1f047",
   "metadata": {},
   "outputs": [],
   "source": [
    "tuple1 = (1,3,5,6,8,8)"
   ]
  },
  {
   "cell_type": "code",
   "execution_count": 40,
   "id": "04246c14",
   "metadata": {},
   "outputs": [],
   "source": [
    "tuple1=tuple(set(tuple1))"
   ]
  },
  {
   "cell_type": "code",
   "execution_count": 41,
   "id": "30416ec2",
   "metadata": {},
   "outputs": [
    {
     "data": {
      "text/plain": [
       "(1, 3, 5, 6, 8)"
      ]
     },
     "execution_count": 41,
     "metadata": {},
     "output_type": "execute_result"
    }
   ],
   "source": [
    "tuple1"
   ]
  },
  {
   "cell_type": "markdown",
   "id": "9b9f62df",
   "metadata": {},
   "source": [
    "# 9. To count the occurrences of elements in a tuple."
   ]
  },
  {
   "cell_type": "code",
   "execution_count": 42,
   "id": "254024ca",
   "metadata": {},
   "outputs": [],
   "source": [
    "my_tuple = (1,2,3,4,5,4,3,2,6,6,5,4,8,9,9,9,9,9,9,0)"
   ]
  },
  {
   "cell_type": "code",
   "execution_count": 43,
   "id": "2992ce56",
   "metadata": {},
   "outputs": [
    {
     "name": "stdout",
     "output_type": "stream",
     "text": [
      "Occurrences of elements in the tuple:\n",
      "1: 1\n",
      "2: 2\n",
      "3: 2\n",
      "4: 3\n",
      "5: 2\n",
      "6: 2\n",
      "8: 1\n",
      "9: 6\n",
      "0: 1\n"
     ]
    }
   ],
   "source": [
    "occurrences = {}\n",
    "for i in my_tuple:\n",
    "    occurrences[i] = my_tuple.count(i)\n",
    "print(\"Occurrences of elements in the tuple:\")\n",
    "for i, count in occurrences.items():\n",
    "    print(f\"{i}: {count}\")"
   ]
  },
  {
   "cell_type": "markdown",
   "id": "633041fa",
   "metadata": {},
   "source": [
    "# 10.To find if all the items, in a tuple, are the same."
   ]
  },
  {
   "cell_type": "code",
   "execution_count": 44,
   "id": "57f4bb81",
   "metadata": {},
   "outputs": [],
   "source": [
    "my_tuple=(4,1,4,4,4,4,4)"
   ]
  },
  {
   "cell_type": "code",
   "execution_count": 45,
   "id": "9f1f9258",
   "metadata": {},
   "outputs": [
    {
     "data": {
      "text/plain": [
       "tuple"
      ]
     },
     "execution_count": 45,
     "metadata": {},
     "output_type": "execute_result"
    }
   ],
   "source": [
    "type(my_tuple)"
   ]
  },
  {
   "cell_type": "code",
   "execution_count": 46,
   "id": "6628ee0c",
   "metadata": {},
   "outputs": [
    {
     "name": "stdout",
     "output_type": "stream",
     "text": [
      "items are not same\n"
     ]
    }
   ],
   "source": [
    "s= set(my_tuple)\n",
    "if(len(s)==1):\n",
    "    print(\"Items are same\")\n",
    "else:\n",
    "    print(\"items are not same\")"
   ]
  },
  {
   "cell_type": "markdown",
   "id": "8e9e90df",
   "metadata": {},
   "source": [
    "# 11.To sort a given tuple in descending order."
   ]
  },
  {
   "cell_type": "code",
   "execution_count": 47,
   "id": "9f83829d",
   "metadata": {},
   "outputs": [],
   "source": [
    "my_tuple=(5,4,7,6,2,4,7)"
   ]
  },
  {
   "cell_type": "code",
   "execution_count": 48,
   "id": "01b479e0",
   "metadata": {},
   "outputs": [],
   "source": [
    "my_tuple=sorted(my_tuple)"
   ]
  },
  {
   "cell_type": "code",
   "execution_count": 49,
   "id": "1f9722be",
   "metadata": {},
   "outputs": [
    {
     "data": {
      "text/plain": [
       "[7, 7, 6, 5, 4, 4, 2]"
      ]
     },
     "execution_count": 49,
     "metadata": {},
     "output_type": "execute_result"
    }
   ],
   "source": [
    "my_tuple[::-1]"
   ]
  },
  {
   "cell_type": "markdown",
   "id": "d5ec7a3e",
   "metadata": {},
   "source": [
    "# 12.To check whether an element exists within a tuple."
   ]
  },
  {
   "cell_type": "code",
   "execution_count": 50,
   "id": "97d772ac",
   "metadata": {},
   "outputs": [
    {
     "name": "stdout",
     "output_type": "stream",
     "text": [
      "99 does not exist\n"
     ]
    }
   ],
   "source": [
    "my_tuple = (1, 2, 3, 4, 5)\n",
    "key = 99\n",
    "if key in my_tuple:\n",
    "    print(f\"{key} exists\")\n",
    "else:\n",
    "    print(f\"{key} does not exist\")"
   ]
  },
  {
   "cell_type": "markdown",
   "id": "30808055",
   "metadata": {},
   "source": [
    "# 13.To remove an empty tuple(s) from a tuple of tuples.\n",
    "Sample data: ((), (2), ('',), ('x', 'y'), (), ('p', 'q', 'r'), (),(3,4))<br>\n",
    "Expected output: (2, ('',), ('x', 'y'), ('p', 'q', 'r'), (3, 4)"
   ]
  },
  {
   "cell_type": "code",
   "execution_count": 51,
   "id": "28253af5",
   "metadata": {},
   "outputs": [
    {
     "data": {
      "text/plain": [
       "((2,), ('',), ('x', 'y'), ('p', 'q', 'r'), (3, 4))"
      ]
     },
     "execution_count": 51,
     "metadata": {},
     "output_type": "execute_result"
    }
   ],
   "source": [
    "data = ((), (2,), ('',), ('x', 'y'), (), ('p', 'q', 'r'), (), (3, 4))\n",
    "result = tuple(item for item in data if item != ())\n",
    "result"
   ]
  }
 ],
 "metadata": {
  "kernelspec": {
   "display_name": "Python 3 (ipykernel)",
   "language": "python",
   "name": "python3"
  },
  "language_info": {
   "codemirror_mode": {
    "name": "ipython",
    "version": 3
   },
   "file_extension": ".py",
   "mimetype": "text/x-python",
   "name": "python",
   "nbconvert_exporter": "python",
   "pygments_lexer": "ipython3",
   "version": "3.9.7"
  }
 },
 "nbformat": 4,
 "nbformat_minor": 5
}
